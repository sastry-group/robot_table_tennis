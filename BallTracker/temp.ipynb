{
 "cells": [
  {
   "cell_type": "code",
   "execution_count": 1,
   "id": "fa687e08-f7b3-4ade-b089-da03cde5b316",
   "metadata": {},
   "outputs": [],
   "source": [
    "import os\n",
    "import time\n",
    "import argparse\n",
    "import numpy as np\n",
    "from tqdm import tqdm\n",
    "\n",
    "import torch\n",
    "import torch.nn as nn\n",
    "import torch.nn.functional as F\n",
    "from torch.utils.data import DataLoader\n",
    "from torch.utils.tensorboard import SummaryWriter\n",
    "\n",
    "from dataset import Shuttlecock_Trajectory_Dataset\n",
    "from keypoint_dataset import KeypointDataset\n",
    "from test import eval_tracknet, eval_inpaintnet\n",
    "from utils.general import ResumeArgumentParser, get_model, to_img_format\n",
    "from utils.metric import WBCELoss\n",
    "from utils.visualize import plot_heatmap_pred_sample, plot_traj_pred_sample, write_to_tb\n",
    "import matplotlib.pyplot as plt"
   ]
  },
  {
   "cell_type": "code",
   "execution_count": 2,
   "id": "134b3fbb-5ff7-455d-bfe7-cb5b57280f5a",
   "metadata": {},
   "outputs": [],
   "source": [
    "cuda_device_number = 3\n",
    "device = torch.device(f\"cuda:{cuda_device_number}\")\n",
    "torch.cuda.set_device(cuda_device_number)"
   ]
  },
  {
   "cell_type": "code",
   "execution_count": 3,
   "id": "5804b499-a015-49be-a03d-3f96174749ef",
   "metadata": {},
   "outputs": [],
   "source": [
    "tracknet_best_ckpt = torch.load(os.path.join(\"ckpts/TrackNet_best.pt\"), map_location=device)\n",
    "inpaintnet_best_ckpt = torch.load(os.path.join(\"ckpts/InpaintNet_best.pt\"), map_location=device)\n",
    "# keypointnet_best_ckpt = torch.load(os.path.join(\"finetune/KeypointNet_best.pt\"), map_location=device)\n"
   ]
  },
  {
   "cell_type": "code",
   "execution_count": 5,
   "id": "6d8a658d-f82c-4a1e-ad0f-781c11f8c5ad",
   "metadata": {},
   "outputs": [],
   "source": [
    "track_net = get_model(\"TrackNet\", 8, \"concat\").cuda()\n",
    "inpaint_net = get_model(\"InpaintNet\").cuda()\n",
    "keypoint_net = get_model(\"KeypointNet\", 9).cuda()"
   ]
  },
  {
   "cell_type": "code",
   "execution_count": 6,
   "id": "cbe58471-1bda-452c-b4e7-51d0657bf59f",
   "metadata": {},
   "outputs": [
    {
     "data": {
      "text/plain": [
       "<All keys matched successfully>"
      ]
     },
     "execution_count": 6,
     "metadata": {},
     "output_type": "execute_result"
    }
   ],
   "source": [
    "track_net.load_state_dict(tracknet_best_ckpt['model'])\n",
    "inpaint_net.load_state_dict(inpaintnet_best_ckpt['model'])\n",
    "# keypoint_net.load_state_dict(keypointnet_best_ckpt['model'])"
   ]
  },
  {
   "cell_type": "code",
   "execution_count": 11,
   "id": "b4d6a0bb-a193-4651-aa74-da7752aa7b75",
   "metadata": {},
   "outputs": [
    {
     "name": "stdout",
     "output_type": "stream",
     "text": [
      "Generate input file...\n"
     ]
    },
    {
     "name": "stderr",
     "output_type": "stream",
     "text": [
      "100%|██████████████████████████████████████████████████████████████████████████████████████████████████████████████████████| 101/101 [00:00<00:00, 141.47it/s]\n"
     ]
    }
   ],
   "source": [
    "train_dataset = KeypointDataset(split='train', seq_len=9, sliding_step=1, frame_alpha=-1, debug=False)\n",
    "train_loader = DataLoader(train_dataset, batch_size=2, shuffle=True, num_workers=1, drop_last=True, pin_memory=True)"
   ]
  },
  {
   "cell_type": "code",
   "execution_count": 21,
   "id": "32c002c9-423b-4b0d-bfbb-2f360f15a133",
   "metadata": {},
   "outputs": [],
   "source": [
    "counter = 0\n",
    "for item in train_loader:\n",
    "    break\n",
    "\n",
    "_, frames, heatmaps, coor, _, keypoint = item\n",
    "coor = coor.cuda()"
   ]
  },
  {
   "cell_type": "code",
   "execution_count": 18,
   "id": "dec47586-3298-4800-aab2-2b26a206a1f0",
   "metadata": {},
   "outputs": [],
   "source": [
    "inp = coor.reshape(len(coor), -1).float()\n",
    "y_pred = keypoint_net(inp)"
   ]
  },
  {
   "cell_type": "code",
   "execution_count": 23,
   "id": "b383017f-b06b-484d-832c-49a5c6fe395b",
   "metadata": {},
   "outputs": [
    {
     "name": "stdout",
     "output_type": "stream",
     "text": [
      "tensor([0., 0.], dtype=torch.float64)\n",
      "tensor([[0.1408, 0.1934, 0.1593, 0.3560, 0.1505],\n",
      "        [0.1408, 0.1934, 0.1593, 0.3560, 0.1505]], device='cuda:3',\n",
      "       grad_fn=<SoftmaxBackward0>)\n"
     ]
    }
   ],
   "source": [
    "y = keypoint\n",
    "softmax = nn.Softmax(1)\n",
    "print(y[:, 9//2])\n",
    "print(softmax(y_pred))"
   ]
  },
  {
   "cell_type": "code",
   "execution_count": 10,
   "id": "ee6b1c4a-25be-46ed-897b-7b2505716c70",
   "metadata": {},
   "outputs": [],
   "source": [
    "x1 = inp[0]\n",
    "x1 = keypoint_net.fc_in(x1)\n",
    "# x1 = keypoint_net.relu(x1)\n",
    "# x1 = keypoint_net.dropout(x1)\n",
    "# for block in keypoint_net.residual_blocks:\n",
    "#     x1 = block(x1)\n",
    "# x1 = keypoint_net.fc_out(x1)\n"
   ]
  },
  {
   "cell_type": "code",
   "execution_count": 11,
   "id": "a1eebe32-a1ba-43df-8548-6aba5403fd81",
   "metadata": {},
   "outputs": [],
   "source": [
    "x2 = inp[1]\n",
    "x2 = keypoint_net.fc_in(x2)\n",
    "# x2 = keypoint_net.relu(x2)\n",
    "# x2 = keypoint_net.dropout(x2)\n",
    "# for block in keypoint_net.residual_blocks:\n",
    "#     x2 = block(x2)\n",
    "# x2 = keypoint_net.fc_out(x2)"
   ]
  },
  {
   "cell_type": "code",
   "execution_count": 13,
   "id": "0c1f3bfd-ad64-49db-a04c-fdb062ef153b",
   "metadata": {},
   "outputs": [
    {
     "data": {
      "text/plain": [
       "tensor([ 0.2093, -0.0776,  0.2255,  0.0836, -0.9063, -0.2458,  0.2613, -0.0298,\n",
       "        -0.3951,  0.0196,  0.5369,  0.0204,  0.0352,  0.0079,  0.1435,  0.2769,\n",
       "         0.1116, -0.0822, -0.0504,  0.0975, -0.1286,  0.4943, -0.4723,  0.1664,\n",
       "         0.1295, -1.0265,  0.0082,  0.0608,  0.1541, -0.2778, -0.1698, -0.5654,\n",
       "         0.1531,  0.1706,  0.2792, -0.2909,  0.0418, -0.1711, -0.0865, -0.0078,\n",
       "         0.0946, -0.0709,  0.0191, -0.4431,  0.2542,  0.1905, -0.3456, -0.2261,\n",
       "         0.2651, -0.0524,  0.1583, -0.3851, -0.1265,  0.2317,  0.1912,  0.0403,\n",
       "        -0.0075, -0.1402,  0.2496, -0.1792,  0.2213, -0.2941,  0.1435, -0.1234],\n",
       "       device='cuda:3', grad_fn=<SubBackward0>)"
      ]
     },
     "execution_count": 13,
     "metadata": {},
     "output_type": "execute_result"
    }
   ],
   "source": [
    "x1-x2"
   ]
  },
  {
   "cell_type": "code",
   "execution_count": null,
   "id": "420fc975-c5ba-47d9-aedc-ae66966c3163",
   "metadata": {},
   "outputs": [],
   "source": []
  }
 ],
 "metadata": {
  "kernelspec": {
   "display_name": "Python 3 (ipykernel)",
   "language": "python",
   "name": "python3"
  },
  "language_info": {
   "codemirror_mode": {
    "name": "ipython",
    "version": 3
   },
   "file_extension": ".py",
   "mimetype": "text/x-python",
   "name": "python",
   "nbconvert_exporter": "python",
   "pygments_lexer": "ipython3",
   "version": "3.9.19"
  }
 },
 "nbformat": 4,
 "nbformat_minor": 5
}
